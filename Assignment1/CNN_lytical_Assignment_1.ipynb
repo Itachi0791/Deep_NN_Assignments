{
  "cells": [
    {
      "cell_type": "markdown",
      "metadata": {
        "id": "RksWtNuHg9Rb"
      },
      "source": [
        "# CNN-lytical Assignment-1\n",
        "*  In this assignment, we will build a classifier for MNIST from scratch using just [NumPy](https://numpy.org/)\n",
        "\n",
        "*  [MNIST](http://yann.lecun.com/exdb/mnist/) dataset contains images of handwritten digits of size 28x28\n",
        "\n",
        "*  The dataset that you are expected to use for training can be found [here](https://drive.google.com/file/d/1z7lwIml6UxsNpDIW3_mPPEb8SoaPC5Zg/view)\n",
        "\n",
        "*   Our model will have 1 hidden layer, like the one below (not our recommendation to use 256 in the hidden layer though, try various values out)\n",
        "\n",
        "**Feel free to redefine any function signatures below, just make sure the final cell remains the same.**\n",
        "\n",
        "<center>\n",
        "<img src=\"https://user-images.githubusercontent.com/81357954/166119893-4ca347b8-b1a4-40b8-9e0a-2e92b5f164ae.png\">\n",
        "</center>"
      ]
    },
    {
      "cell_type": "markdown",
      "metadata": {
        "id": "UyOAG55siwdI"
      },
      "source": [
        "## Import libraries here\n",
        "NumPy, Matplotlib, ...\n",
        "\n",
        "Also remember to initialize the seed for reproducibility of results"
      ]
    },
    {
      "cell_type": "code",
      "execution_count": 7,
      "metadata": {
        "id": "7iVUsRLxjAb9"
      },
      "outputs": [],
      "source": [
        "import numpy as np\n",
        "import matplotlib.pyplot as plt\n",
        "import pickle\n",
        "import math\n",
        "import random\n",
        "from sklearn.model_selection import StratifiedShuffleSplit\n",
        "from sklearn.preprocessing import StandardScaler"
      ]
    },
    {
      "cell_type": "markdown",
      "metadata": {
        "id": "HaLDC4wN0eQs"
      },
      "source": [
        "## Load *Dataset*\n",
        "Load data from the given pickle file"
      ]
    },
    {
      "cell_type": "code",
      "execution_count": 8,
      "metadata": {
        "id": "6qOjNSmx0iUn",
        "colab": {
          "base_uri": "https://localhost:8080/"
        },
        "outputId": "8a3aa319-89a6-48f1-c204-0554d4dff3b2"
      },
      "outputs": [
        {
          "output_type": "stream",
          "name": "stdout",
          "text": [
            "Mounted at /content/drive\n"
          ]
        }
      ],
      "source": [
        "# mount Google Drive to access the dataset\n",
        "from google.colab import drive\n",
        "drive.mount('/content/drive')\n",
        "\n",
        "# load the data set\n",
        "\n",
        "with open('/content/drive/MyDrive/Colab Notebooks/train_data.pkl','rb') as f:\n",
        "    data= pickle.load(f)\n",
        "X = data['X']\n",
        "y = data['y']"
      ]
    },
    {
      "cell_type": "markdown",
      "source": [
        "**Displaying Images**"
      ],
      "metadata": {
        "id": "pVhG7j_-Wmmn"
      }
    },
    {
      "cell_type": "code",
      "source": [
        "# display a 4x4 grid, \n",
        "# choose 16 images randomly, display the images as well as corresponding labels\n",
        "indices = [random.randrange(0,X.shape[0] - 1) for i in range(16)]\n",
        "images = np.reshape(X[indices],(16,28,28))\n",
        "labels = y[indices]\n",
        "num_row = 4\n",
        "num_col = 4\n",
        "# plot images\n",
        "fig, axes = plt.subplots(num_row, num_col, figsize=(2*num_col,2*num_row))\n",
        "for i in range(16):\n",
        "    ax = axes[i//num_col, i%num_col]\n",
        "    ax.imshow(images[i], cmap='gray')\n",
        "    ax.set_title('Label: {}'.format(labels[i]))\n",
        "plt.tight_layout()\n",
        "plt.show()"
      ],
      "metadata": {
        "colab": {
          "base_uri": "https://localhost:8080/",
          "height": 585
        },
        "id": "dVkYaWCraWRQ",
        "outputId": "aa028a0b-735f-4905-a867-c8f3530dbb78"
      },
      "execution_count": 9,
      "outputs": [
        {
          "output_type": "display_data",
          "data": {
            "text/plain": [
              "<Figure size 576x576 with 16 Axes>"
            ],
            "image/png": "[encoded data removed]"
          },
          "metadata": {
            "needs_background": "light"
          }
        }
      ]
    },
    {
      "cell_type": "markdown",
      "source": [
        "## Pre - Processing"
      ],
      "metadata": {
        "id": "FKpl1AgFTfg3"
      }
    },
    {
      "cell_type": "markdown",
      "source": [
        "**Normalization**"
      ],
      "metadata": {
        "id": "Sig8K8ZlUrsa"
      }
    },
    {
      "cell_type": "code",
      "source": [
        "# normalize\n",
        "scaler = StandardScaler()\n",
        "scaler.fit(X)\n",
        "X = scaler.transform(X)"
      ],
      "metadata": {
        "id": "kms2YmXmUy1g"
      },
      "execution_count": 10,
      "outputs": []
    },
    {
      "cell_type": "markdown",
      "source": [
        "**Splitting into train,test**"
      ],
      "metadata": {
        "id": "BRxh1quxVZjW"
      }
    },
    {
      "cell_type": "code",
      "execution_count": 17,
      "metadata": {
        "id": "id77Oqc90kTf"
      },
      "outputs": [],
      "source": [
        "# Split into X_train, y_train, X_test, y_test\n",
        "# you can use stratified splitting from sklearn library\n",
        "sss = StratifiedShuffleSplit(n_splits=4, test_size=0.15, random_state=0)\n",
        "for train_index, test_index in sss.split(X, y):\n",
        "    X_train, X_test = X[train_index], X[test_index]\n",
        "    y_train, y_test = y[train_index], y[test_index]\n"
      ]
    },
    {
      "cell_type": "markdown",
      "source": [
        "**One-Hot Encoding**"
      ],
      "metadata": {
        "id": "zXIh572eNmzV"
      }
    },
    {
      "cell_type": "code",
      "source": [
        "def one_hot(y):\n",
        "    m=y.shape[0]\n",
        "    Y = np.zeros((m,10))\n",
        "    for i in range(m):\n",
        "        for j in range(10):\n",
        "            if y[i]==j:\n",
        "                Y[i,j] = 1\n",
        "            else:\n",
        "                Y[i,j] = 0\n",
        "    return Y\n",
        "Y_train = one_hot(y_train)\n",
        "Y_test = one_hot(y_test)\n"
      ],
      "metadata": {
        "id": "gh1Y41sz5E3J"
      },
      "execution_count": 18,
      "outputs": []
    },
    {
      "cell_type": "markdown",
      "metadata": {
        "id": "VFYnsPVLmsiW"
      },
      "source": [
        "## Building up parts of our classifier"
      ]
    },
    {
      "cell_type": "markdown",
      "metadata": {
        "id": "wAsGtgxUpGh2"
      },
      "source": [
        "**Activation functions**"
      ]
    },
    {
      "cell_type": "code",
      "execution_count": 1,
      "metadata": {
        "id": "6Di5Ck47msCQ"
      },
      "outputs": [],
      "source": [
        "def relu(z):\n",
        "    \"\"\"\n",
        "    Arguments:\n",
        "    z -- A scalar or numpy array.\n",
        "    Return:\n",
        "    relu func applied to each element of z\n",
        "    \"\"\"\n",
        "    return np.maximum(0,z)\n",
        "\n",
        "def sigmoid(z):\n",
        "    return 1/(1 + np.exp(-z))\n",
        "\n",
        "def softmax(z):\n",
        "    \"\"\"\n",
        "    returns computed probabilitites for each element in batch separately\n",
        "    input: (10, N)\n",
        "    output: (10, N)\n",
        "    \"\"\"\n",
        "    z = z - np.max(z)\n",
        "    exponents = np.exp(z)\n",
        "    return exponents/exponents.sum(axis=0,keepdims=True)"
      ]
    },
    {
      "cell_type": "markdown",
      "metadata": {
        "id": "G-q5HJHIocdn"
      },
      "source": [
        "**Notes about the Neural Network** \n",
        "*   Input size is (784,) because 28x28 = 784\n",
        "*   Output size will be 10, each element represeting probability of the image representing that digit\n",
        "*   Size of the hidden layer is a hyperparameter\n",
        "\n"
      ]
    },
    {
      "cell_type": "markdown",
      "metadata": {
        "id": "azTAuS5spFcz"
      },
      "source": [
        "**Initialize the layers weights**\n",
        "\n",
        "Generally, we follow the convention that weights are drawn from a standard normal distribution, while the bias vectors are initialized to zero. But you can try everything out :)"
      ]
    },
    {
      "cell_type": "code",
      "execution_count": 13,
      "metadata": {
        "id": "38E3_hVPocMm"
      },
      "outputs": [],
      "source": [
        "def init_params(n_x,n_h,n_y):\n",
        "    \"\"\"\n",
        "    ideally it should take the size of all the layers and \n",
        "    should return the initialized weights.\n",
        "    \"\"\"\n",
        "    W1 = np.random.randn(n_x,n_h) * 0.01\n",
        "    b1 = np.zeros((n_h,1)) \n",
        "    W2 = np.random.randn(n_h,n_y) * 0.01\n",
        "    b2 = np.zeros((n_y,1))\n",
        "    parameters = {\"W1\": W1, \"b1\": b1, \"W2\": W2, \"b2\": b2}\n",
        "    \n",
        "    return parameters"
      ]
    },
    {
      "cell_type": "markdown",
      "metadata": {
        "id": "UlX8zy-7pv2n"
      },
      "source": [
        "**Forward Propagation**"
      ]
    },
    {
      "cell_type": "code",
      "execution_count": 2,
      "metadata": {
        "id": "TJ8lgrqjjASz"
      },
      "outputs": [],
      "source": [
        "def forward_propg(X, parameters):\n",
        "    \"\"\"\n",
        "    X: input data\n",
        "    returns: logits, output of each layer z1,z2,a1,a2\n",
        "    \"\"\"\n",
        "    X = X.T\n",
        "    W1 = (parameters[\"W1\"]).T\n",
        "    b1 = parameters[\"b1\"]\n",
        "    W2 = (parameters[\"W2\"]).T\n",
        "    b2 = parameters[\"b2\"]\n",
        "\n",
        "    Z1 = np.dot(W1,X) + b1\n",
        "    A1 = relu(Z1)\n",
        "    Z2 = np.dot(W2,A1) + b2\n",
        "    A2 = softmax(Z2)\n",
        "    \n",
        "    cache = {\"Z1\": Z1, \"A1\": A1, \"Z2\": Z2, \"A2\": A2}\n",
        "    \n",
        "    return A2, cache\n"
      ]
    },
    {
      "cell_type": "markdown",
      "source": [
        "**Cross entropy Loss with regularization**"
      ],
      "metadata": {
        "id": "38BIurkJOsN9"
      }
    },
    {
      "cell_type": "code",
      "source": [
        "def compute_cost(A2,Y,parameters,lambd):\n",
        "    Y = Y.T\n",
        "    m = A2.shape[1]\n",
        "    W1 = parameters[\"W1\"]\n",
        "    W2 = parameters[\"W2\"]\n",
        "    cost = - np.sum(Y*np.log(A2 + 10**-7))/m\n",
        "    regul_cost = lambd/(2*m)*(np.sum(np.square(W1)) + np.sum(np.square(W2)))\n",
        "    cost = cost + regul_cost\n",
        "    return cost"
      ],
      "metadata": {
        "id": "qUYHQhWgOzlN"
      },
      "execution_count": 3,
      "outputs": []
    },
    {
      "cell_type": "markdown",
      "metadata": {
        "id": "asZmbRVvuy5x"
      },
      "source": [
        "**Backward Propagation**\n",
        "\n",
        "\n",
        "You may use stochastic gradient descent or batch gradient descent here. Feel free to use any loss function."
      ]
    },
    {
      "cell_type": "code",
      "execution_count": 4,
      "metadata": {
        "id": "kAmrTAlimjUN"
      },
      "outputs": [],
      "source": [
        "def backward_propg(parameters, X, Y,cache,lambd):\n",
        "    \"\"\"\n",
        "    calculate gradients\n",
        "    \"\"\"\n",
        "    X = X.T\n",
        "    Y = Y.T\n",
        "    m = X.shape[1]\n",
        "    W1 = (parameters[\"W1\"]).T\n",
        "    W2 = (parameters[\"W2\"]).T\n",
        "    Z1 = cache[\"Z1\"]\n",
        "    A1 = cache[\"A1\"]\n",
        "    A2 = cache[\"A2\"]\n",
        "\n",
        "    dZ2 = A2 - Y\n",
        "    dW2 = np.dot(dZ2,A1.T)/m + lambd/m*W2\n",
        "    db2 = np.sum(dZ2,axis=1,keepdims=True) / m\n",
        "    dZ1 = np.dot(W2.T,dZ2) * (Z1 >= 0)\n",
        "    dW1 = np.dot(dZ1,X.T)/m + lambd/m*W1\n",
        "    db1 = np.sum(dZ1,axis=1,keepdims=True) / m\n",
        "    grads = {\"dW1\": dW1.T, \"db1\": db1, \"dW2\": dW2.T, \"db2\": db2}\n",
        "    \n",
        "    return grads\n",
        "    "
      ]
    },
    {
      "cell_type": "markdown",
      "source": [
        "**Updating Parameters**"
      ],
      "metadata": {
        "id": "QKS2gqJS10Io"
      }
    },
    {
      "cell_type": "code",
      "source": [
        "def update_parameters(parameters,grads,lr):\n",
        "    W1 = (parameters[\"W1\"]).T\n",
        "    b1 = parameters[\"b1\"]\n",
        "    W2 = (parameters[\"W2\"]).T\n",
        "    b2 = parameters[\"b2\"]\n",
        "\n",
        "    dW1 = (grads[\"dW1\"]).T\n",
        "    db1 = grads[\"db1\"]\n",
        "    dW2 = (grads[\"dW2\"]).T\n",
        "    db2 = grads[\"db2\"]\n",
        "\n",
        "    W1 = W1 - lr * dW1\n",
        "    b1 = b1 - lr * db1\n",
        "    W2 = W2 - lr * dW2\n",
        "    b2 = b2 - lr * db2\n",
        "\n",
        "    parameters = {\"W1\": W1.T, \"b1\": b1, \"W2\": W2.T, \"b2\": b2}\n",
        "    \n",
        "    return parameters\n"
      ],
      "metadata": {
        "id": "nKQSwncv2D2H"
      },
      "execution_count": 5,
      "outputs": []
    },
    {
      "cell_type": "markdown",
      "source": [
        "**Mini-Batches**"
      ],
      "metadata": {
        "id": "PKvWDWDLiu8X"
      }
    },
    {
      "cell_type": "code",
      "source": [
        "def random_mini_batches(X, Y, mini_batch_size = 64):\n",
        "            \n",
        "    m = X.shape[0]                 \n",
        "    mini_batches = []\n",
        "    X = X.T\n",
        "    Y = Y.T\n",
        "\n",
        "    permutation = list(np.random.permutation(m))\n",
        "    shuffled_X = X[:, permutation]\n",
        "    shuffled_Y = Y[:, permutation].reshape((10, m))\n",
        "    \n",
        "    inc = mini_batch_size\n",
        "\n",
        "    num_complete_minibatches = math.floor(m / mini_batch_size)\n",
        "    for k in range(0, num_complete_minibatches):\n",
        "        mini_batch_X =  shuffled_X[:,k*mini_batch_size:(k+1)*mini_batch_size]\n",
        "        mini_batch_Y =  shuffled_Y[:,k*mini_batch_size:(k+1)*mini_batch_size]\n",
        "\n",
        "        mini_batch = (mini_batch_X.T, mini_batch_Y.T)\n",
        "        mini_batches.append(mini_batch)\n",
        "\n",
        "    if m % mini_batch_size != 0:\n",
        "        mini_batch_X = shuffled_X[:,- (m % mini_batch_size):]\n",
        "        mini_batch_Y = shuffled_Y[:,- (m % mini_batch_size):]\n",
        " \n",
        "        mini_batch = (mini_batch_X.T, mini_batch_Y.T)\n",
        "        mini_batches.append(mini_batch)\n",
        "    \n",
        "    return mini_batches"
      ],
      "metadata": {
        "id": "hPNtqzaVizFX"
      },
      "execution_count": 6,
      "outputs": []
    },
    {
      "cell_type": "markdown",
      "metadata": {
        "id": "GUlhpcs9ylOX"
      },
      "source": [
        "\n",
        "## Integrate everything"
      ]
    },
    {
      "cell_type": "code",
      "execution_count": 29,
      "metadata": {
        "id": "SDGdT7PVmjRU"
      },
      "outputs": [],
      "source": [
        "def train(X, Y, hidden_nodes, epochs=200, lr=1e-5,lambd=0.1):\n",
        "    \"\"\"\n",
        "    hidden_nodes: no. of nodes in hidden layer\n",
        "\n",
        "    should return the updated optimize weights.\n",
        "    \"\"\"\n",
        "    m = X.shape[0]\n",
        "    n_x = X.shape[1]\n",
        "    n_y = Y.shape[1]\n",
        "    n_h = hidden_nodes\n",
        "    costs = []\n",
        "    # initialize weights.\n",
        "    parameters = init_params(n_x,n_h,n_y)\n",
        "\n",
        "    for i in range(epochs + 1):\n",
        "        minibatches = random_mini_batches(X, Y)\n",
        "        cost_total = 0\n",
        "\n",
        "        for minibatch in minibatches:\n",
        "            (minibatch_X, minibatch_Y) = minibatch\n",
        "\n",
        "            # forward propagation\n",
        "            a2,cache = forward_propg(minibatch_X, parameters)\n",
        "\n",
        "            # Compute cost and add to the cost total\n",
        "            cost_total += compute_cost(a2, minibatch_Y,parameters,lambd)\n",
        "\n",
        "            # backward propagation\n",
        "            grads = backward_propg(parameters, minibatch_X, minibatch_Y,cache,lambd)\n",
        "\n",
        "            # update parameters\n",
        "            parameters = update_parameters(parameters,grads,lr)\n",
        "        \n",
        "        cost_avg = cost_total / m\n",
        "\n",
        "        # print cost at every 20 or so iterations\n",
        "        if i % 20 == 0:\n",
        "            print (\"Cost after epoch %i: %f\" %(i, cost_avg))\n",
        "            costs.append(cost_avg)\n",
        "\n",
        "    plt.plot(costs)\n",
        "    plt.ylabel('cost')\n",
        "    plt.xlabel('epochs (per 20)')\n",
        "    plt.title(\"Learning rate = \" + str(lr))\n",
        "    plt.show()\n",
        "         \n",
        "    return parameters"
      ]
    },
    {
      "cell_type": "code",
      "execution_count": 15,
      "metadata": {
        "id": "9XBinWpPmjOS"
      },
      "outputs": [],
      "source": [
        "def predict(X, parameters):\n",
        "    \"\"\"\n",
        "    returns the prediction in [0,9] for each element in X\n",
        "    \"\"\"\n",
        "    A2,cache = forward_propg(X,parameters)\n",
        "    predictions = np.argmax(A2,axis=0)\n",
        "    return predictions.T"
      ]
    },
    {
      "cell_type": "code",
      "execution_count": 27,
      "metadata": {
        "id": "CtKSZWw71wc4"
      },
      "outputs": [],
      "source": [
        "def accuracy(predictions, y):\n",
        "    \"\"\"\n",
        "    prints % accuracy\n",
        "    \"\"\"\n",
        "    y= np.reshape(y,-1)\n",
        "    correct_pred = predictions == y\n",
        "    accuracy = correct_pred.sum()/y.shape[0]*100.00\n",
        "    print(\"Accuracy : \",accuracy)"
      ]
    },
    {
      "cell_type": "markdown",
      "source": [
        "**Training on Dataset**"
      ],
      "metadata": {
        "id": "N4pSfMe-zJWM"
      }
    },
    {
      "cell_type": "code",
      "source": [
        "parameters = train(X_train,Y_train,80,lr = 0.01,lambd = 0.01) "
      ],
      "metadata": {
        "colab": {
          "base_uri": "https://localhost:8080/",
          "height": 486
        },
        "id": "ZsVKgtkVpE0a",
        "outputId": "29f97f31-2357-4fde-866d-d6c1355a602a"
      },
      "execution_count": 31,
      "outputs": [
        {
          "output_type": "stream",
          "name": "stdout",
          "text": [
            "Cost after epoch 0: 0.020938\n",
            "Cost after epoch 20: 0.001697\n",
            "Cost after epoch 40: 0.001004\n",
            "Cost after epoch 60: 0.000703\n",
            "Cost after epoch 80: 0.000550\n",
            "Cost after epoch 100: 0.000465\n",
            "Cost after epoch 120: 0.000414\n",
            "Cost after epoch 140: 0.000383\n",
            "Cost after epoch 160: 0.000363\n",
            "Cost after epoch 180: 0.000350\n",
            "Cost after epoch 200: 0.000341\n"
          ]
        },
        {
          "output_type": "display_data",
          "data": {
            "text/plain": [
              "<Figure size 432x288 with 1 Axes>"
            ],
            "image/png": "[encoded data removed]"
          },
          "metadata": {
            "needs_background": "light"
          }
        }
      ]
    },
    {
      "cell_type": "markdown",
      "source": [
        "## Implementing on test dataset\n",
        "\n"
      ],
      "metadata": {
        "id": "VWpB3Q7rnK9a"
      }
    },
    {
      "cell_type": "code",
      "source": [
        "predictions = predict(X_test,parameters)\n",
        "accuracy(predictions,y_test)"
      ],
      "metadata": {
        "colab": {
          "base_uri": "https://localhost:8080/"
        },
        "id": "do9rcixTndcn",
        "outputId": "2ac34a77-eea0-4a52-ce35-d9f3fc4162c1"
      },
      "execution_count": 32,
      "outputs": [
        {
          "output_type": "stream",
          "name": "stdout",
          "text": [
            "Accuracy :  97.16666666666667\n"
          ]
        }
      ]
    },
    {
      "cell_type": "markdown",
      "metadata": {
        "id": "fGVOZ8yg0VrV"
      },
      "source": [
        "## Save as pickle"
      ]
    },
    {
      "cell_type": "code",
      "execution_count": 34,
      "metadata": {
        "colab": {
          "base_uri": "https://localhost:8080/",
          "height": 17
        },
        "id": "_lvDVwmxmjKX",
        "outputId": "08a3fd4b-6ecc-4969-8cb3-aa8734fcb3b4"
      },
      "outputs": [
        {
          "output_type": "display_data",
          "data": {
            "text/plain": [
              "<IPython.core.display.Javascript object>"
            ],
            "application/javascript": [
              "\n",
              "    async function download(id, filename, size) {\n",
              "      if (!google.colab.kernel.accessAllowed) {\n",
              "        return;\n",
              "      }\n",
              "      const div = document.createElement('div');\n",
              "      const label = document.createElement('label');\n",
              "      label.textContent = `Downloading \"${filename}\": `;\n",
              "      div.appendChild(label);\n",
              "      const progress = document.createElement('progress');\n",
              "      progress.max = size;\n",
              "      div.appendChild(progress);\n",
              "      document.body.appendChild(div);\n",
              "\n",
              "      const buffers = [];\n",
              "      let downloaded = 0;\n",
              "\n",
              "      const channel = await google.colab.kernel.comms.open(id);\n",
              "      // Send a message to notify the kernel that we're ready.\n",
              "      channel.send({})\n",
              "\n",
              "      for await (const message of channel.messages) {\n",
              "        // Send a message to notify the kernel that we're ready.\n",
              "        channel.send({})\n",
              "        if (message.buffers) {\n",
              "          for (const buffer of message.buffers) {\n",
              "            buffers.push(buffer);\n",
              "            downloaded += buffer.byteLength;\n",
              "            progress.value = downloaded;\n",
              "          }\n",
              "        }\n",
              "      }\n",
              "      const blob = new Blob(buffers, {type: 'application/binary'});\n",
              "      const a = document.createElement('a');\n",
              "      a.href = window.URL.createObjectURL(blob);\n",
              "      a.download = filename;\n",
              "      div.appendChild(a);\n",
              "      a.click();\n",
              "      div.remove();\n",
              "    }\n",
              "  "
            ]
          },
          "metadata": {}
        },
        {
          "output_type": "display_data",
          "data": {
            "text/plain": [
              "<IPython.core.display.Javascript object>"
            ],
            "application/javascript": [
              "download(\"download_9c460784-f7a0-4af0-a263-79f7c08abef0\", \"model_210100059.pkl\", 509246)"
            ]
          },
          "metadata": {}
        }
      ],
      "source": [
        "import pickle\n",
        "import random\n",
        "from google.colab import files\n",
        "\n",
        "roll_num = \"210100059\" # enter ldap\n",
        "hidden_dim = 80 # replace with your own hidden dimension\n",
        "\n",
        "W1 = parameters[\"W1\"]\n",
        "W2 = parameters[\"W2\"]\n",
        "b1 = parameters[\"b1\"]\n",
        "b2 = parameters[\"b2\"]\n",
        "\n",
        "model_dict = {\n",
        "    'z': hidden_dim, # hidden dimension of your model\n",
        "    'layer_0_wt': W1, # layer 0 weight (784, z)\n",
        "    'layer_0_bias': b1, # layer 0 bias (z, 1)\n",
        "    'layer_1_wt': W2, # layer 1 weight (z, 10)\n",
        "    'layer_1_bias': b2 # layer 1 bias (10, 1)\n",
        "}\n",
        "\n",
        "assert model_dict['layer_0_wt'].shape == (784, hidden_dim)\n",
        "assert model_dict['layer_0_bias'].shape == (hidden_dim, 1)\n",
        "assert model_dict['layer_1_wt'].shape == (hidden_dim, 10)\n",
        "assert model_dict['layer_1_bias'].shape == (10, 1)\n",
        "\n",
        "with open(f'model_{roll_num}.pkl', 'wb') as f:\n",
        "    pickle.dump(model_dict, f)\n",
        "    files.download(f'model_{roll_num}.pkl') # download the file from the Colab session for submission"
      ]
    }
  ],
  "metadata": {
    "colab": {
      "collapsed_sections": [],
      "name": "CNN_lytical_Assignment_1.ipynb",
      "provenance": []
    },
    "kernelspec": {
      "display_name": "Python 3 (ipykernel)",
      "language": "python",
      "name": "python3"
    },
    "language_info": {
      "codemirror_mode": {
        "name": "ipython",
        "version": 3
      },
      "file_extension": ".py",
      "mimetype": "text/x-python",
      "name": "python",
      "nbconvert_exporter": "python",
      "pygments_lexer": "ipython3",
      "version": "3.9.7"
    }
  },
  "nbformat": 4,
  "nbformat_minor": 0
}