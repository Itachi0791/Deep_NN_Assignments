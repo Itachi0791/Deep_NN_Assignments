{
  "nbformat": 4,
  "nbformat_minor": 0,
  "metadata": {
    "colab": {
      "name": "CNN_lytical_Assignment_2.ipynb",
      "provenance": [],
      "collapsed_sections": []
    },
    "kernelspec": {
      "name": "python3",
      "display_name": "Python 3"
    },
    "language_info": {
      "name": "python"
    },
    "accelerator": "GPU"
  },
  "cells": [
    {
      "cell_type": "markdown",
      "source": [
        "# CNN-lytical Assignment-2\n",
        "<center>\n",
        "<img src=\"https://encrypted-tbn0.gstatic.com/images?q=tbn:ANd9GcS7fZ0PJ4leQi4qtXR5Egv5YILqQqvzVSNtFg&usqp=CAU\">\n",
        "</center>\n",
        "\n",
        "*  In this assignment, we will build a classifier for MNIST from using [PyTorch](https://pytorch.org/docs/stable/index.html). \n",
        "\n",
        "*   We will be using the same dataset as the previous assignment for MNIST. **Do not** use the complete MNIST dataset, even though PyTorch makes it really easy.\n",
        "\n",
        "*   No limitations on your model this time, just don't use CNNs now, that's up next week.\n",
        "\n",
        "**Feel free to redefine any function signatures below, just make sure the final cell remains the same.**"
      ],
      "metadata": {
        "id": "Xwo8D8V-uPsI"
      }
    },
    {
      "cell_type": "markdown",
      "source": [
        "## Import libraries here\n",
        "PyTorch, NumPy, Matplotlib, ...\n",
        "Even when equipped with PyTorch, NumPy and Matplotlib make your work easier for visualization etc.\n",
        "\n",
        "Also remember to **initialize the seed** for reproducibility of results, both for NumPy & PyTorch."
      ],
      "metadata": {
        "id": "QQNvtQCE_j1Q"
      }
    },
    {
      "cell_type": "code",
      "execution_count": 19,
      "metadata": {
        "id": "CnnyxVTxqpZB"
      },
      "outputs": [],
      "source": [
        "import torch\n",
        "import torch.nn as nn\n",
        "from torch.utils.data import Dataset,DataLoader\n",
        "import pickle\n",
        "import numpy as np\n",
        "import matplotlib.pyplot as plt \n",
        "from sklearn.model_selection import StratifiedShuffleSplit\n",
        "from sklearn.preprocessing import StandardScaler\n",
        "device = torch.device('cuda' if torch.cuda.is_available() else 'cpu')"
      ]
    },
    {
      "cell_type": "markdown",
      "source": [
        "## Load *Dataset*\n",
        "Use the pickle file shared for the previous assignment here."
      ],
      "metadata": {
        "id": "D6dAe4V0_3zC"
      }
    },
    {
      "cell_type": "code",
      "source": [
        "# mount Google Drive to access the dataset\n",
        "from google.colab import drive\n",
        "drive.mount('/content/drive')\n",
        "\n",
        "# load the data set\n",
        "\n",
        "with open('/content/drive/MyDrive/Colab Notebooks/train_data.pkl','rb') as f:\n",
        "    data= pickle.load(f)\n",
        "X = data['X']\n",
        "y = data['y']\n"
      ],
      "metadata": {
        "id": "umr8-1EI_3ez",
        "colab": {
          "base_uri": "https://localhost:8080/"
        },
        "outputId": "99418b74-ceb0-4703-8786-b0b722f733ff"
      },
      "execution_count": 2,
      "outputs": [
        {
          "output_type": "stream",
          "name": "stdout",
          "text": [
            "Mounted at /content/drive\n"
          ]
        }
      ]
    },
    {
      "cell_type": "markdown",
      "source": [
        "**Displaying Images and Pre-Processing** "
      ],
      "metadata": {
        "id": "GLvK7n2gx1Nq"
      }
    },
    {
      "cell_type": "code",
      "source": [
        "# display a 4x4 grid, \n",
        "# choose 16 images randomly, display the images as well as corresponding labels\n",
        "\n",
        "indices = [random.randrange(0,X.shape[0] - 1) for i in range(16)]\n",
        "images = np.reshape(X[indices],(16,28,28))\n",
        "labels = y[indices]\n",
        "num_row = 4\n",
        "num_col = 4\n",
        "# plot images\n",
        "fig, axes = plt.subplots(num_row, num_col, figsize=(2*num_col,2*num_row))\n",
        "for i in range(16):\n",
        "    ax = axes[i//num_col, i%num_col]\n",
        "    ax.imshow(images[i], cmap='gray')\n",
        "    ax.set_title('Label: {}'.format(labels[i]))\n",
        "plt.tight_layout()\n",
        "plt.show()\n",
        "\n",
        "# normalize the dataset, won't be doing it here in later assignments\n",
        "\n",
        "scaler = StandardScaler()\n",
        "scaler.fit(X)\n",
        "X = scaler.transform(X)\n",
        "\n",
        "# Split into X_train, y_train, X_test, y_test\n",
        "# you can use stratified splitting from sklearn library\n",
        "\n",
        "sss = StratifiedShuffleSplit(n_splits=4, test_size=0.15, random_state=0)\n",
        "for train_index, test_index in sss.split(X, y):\n",
        "    X_train, X_test = X[train_index], X[test_index]\n",
        "    y_train, y_test = y[train_index], y[test_index]\n"
      ],
      "metadata": {
        "id": "w4174DiUAUIJ",
        "colab": {
          "base_uri": "https://localhost:8080/",
          "height": 585
        },
        "outputId": "675467d3-e5fc-441a-da5d-4c1d6cc10d4b"
      },
      "execution_count": 3,
      "outputs": [
        {
          "output_type": "display_data",
          "data": {
            "text/plain": [
              "<Figure size 576x576 with 16 Axes>"
            ],
            "image/png": "[encoded data removed]"
          },
          "metadata": {
            "needs_background": "light"
          }
        }
      ]
    },
    {
      "cell_type": "markdown",
      "source": [
        "## Creating a Dataset Class\n",
        "In PyTorch, there is existing implementation of batch-splitting. You don't need to do it manually over here. Instead, just define a Dataset class and a Dataloader wrapping it.\n",
        "\n",
        "A dataset class must have 3 functions - ```__init__```, ```__len__```, ```__getitem__```. Their names are pretty self-explanatory. You can read more about this [here](https://pytorch.org/tutorials/beginner/basics/data_tutorial.html).\n",
        "\n",
        "\n",
        "**Note** - Things like normalization, augmentation etc. which are related to the dataset are all done in this class. However, because this assignment doesn't deal with MNIST images but rather feature vectors, this part is being skipped here and will be discussed in Assignment 3."
      ],
      "metadata": {
        "id": "ZjY5oNGRAK1e"
      }
    },
    {
      "cell_type": "code",
      "source": [
        "# define your dataset class\n",
        "class Image_Dataset(Dataset):\n",
        "    def __init__(self,X,y):\n",
        "\n",
        "        '''initializes dataset'''\n",
        "\n",
        "        self.X = torch.from_numpy(np.array(X, dtype='float32'))\n",
        "        self.y = torch.from_numpy(np.array(y, dtype='float32'))\n",
        "        self.n_samples = X.shape[0]\n",
        "\n",
        "    def __getitem__(self,index):\n",
        "\n",
        "        '''returns the sample at position (index)'''\n",
        "        \n",
        "        return self.X[index],self.y[index]\n",
        "\n",
        "    def __len__(self):\n",
        "\n",
        "        '''len(dataset)'''\n",
        "        return self.n_samples\n"
      ],
      "metadata": {
        "id": "vifSrimqBGjH"
      },
      "execution_count": 4,
      "outputs": []
    },
    {
      "cell_type": "markdown",
      "source": [
        "## ```nn.Module``` for your model\n",
        "In this segment, define a class for your model, it has to inherit from the ```nn.Module``` class. You must define two functions here - ```__init__``` and ```forward```, again pretty self-explanatory. Helper functions can also be implemented, your choice!\n",
        "\n",
        "Look into the following ```torch``` layers and combine them to form your network, you can find more [here](https://pytorch.org/docs/stable/nn.html) -\n",
        "- [```nn.Linear```](https://pytorch.org/docs/stable/generated/torch.nn.Linear.html)\n",
        "- [```nn.ReLU```](https://pytorch.org/docs/stable/generated/torch.nn.ReLU.html)\n",
        "- [```nn.BatchNorm1d```](https://pytorch.org/docs/stable/generated/torch.nn.BatchNorm1d.html)\n"
      ],
      "metadata": {
        "id": "DOs6uifpBF8P"
      }
    },
    {
      "cell_type": "code",
      "source": [
        "# define a child class of nn.Module for your model\n",
        "# specify the architecture here itself\n",
        "\n",
        "class Neural_Net(nn.Module):\n",
        "\n",
        "    def __init__(self,n_x,n_h1,n_h2,n_h3,n_y):\n",
        "\n",
        "        super(Neural_Net,self).__init__()\n",
        "        self.l1 = nn.Linear(n_x,n_h1)\n",
        "        self.a1 = nn.ReLU()\n",
        "        self.l2 = nn.Linear(n_h1,n_h2)\n",
        "        self.a2 = nn.ReLU()\n",
        "        self.l3 = nn.Linear(n_h2,n_h3)\n",
        "        self.a3 = nn.ReLU()\n",
        "        self.l4 = nn.Linear(n_h3,n_y)\n",
        "        self.network = nn.Sequential(\n",
        "            \n",
        "                        # first hidden layer\n",
        "                        self.l1,self.a1,\n",
        "\n",
        "                        nn.BatchNorm1d(n_h1),\n",
        "\n",
        "                        # second hidden layer\n",
        "                        self.l2,self.a2,\n",
        "\n",
        "                        nn.BatchNorm1d(n_h2),\n",
        "                        \n",
        "                        # third hidden layer\n",
        "                        self.l3,self.a3,\n",
        "\n",
        "                        nn.BatchNorm1d(n_h3),\n",
        "\n",
        "                        # output layer\n",
        "                        self.l4\n",
        "                        \n",
        "                      )\n",
        "        \n",
        "    def forward(self,x):\n",
        "        output = self.network(x)\n",
        "        return output"
      ],
      "metadata": {
        "id": "6Mr6_5pzGRjp"
      },
      "execution_count": 18,
      "outputs": []
    },
    {
      "cell_type": "markdown",
      "source": [
        "## Training loop\n",
        "You can write a training loop but usually writing it within a function helps so that you can train in multiple passes with just one function call if you still don't see convergence of the loss. ```display_step``` is for you to display results on the validation set (which you must not have trained upon).\n",
        "\n",
        "You will need to use ```zero_grad()```, ```backward()``` and multiple such functions here. Look for them in the tutorials given."
      ],
      "metadata": {
        "id": "tVTyirdELXlt"
      }
    },
    {
      "cell_type": "code",
      "source": [
        "\n",
        "def train(model, train_loader , optimizer, criterion ,n_epochs, display_step = None):\n",
        "\n",
        "    n_total_steps = len(train_loader)\n",
        "    losses=[]\n",
        "    # enumerate epochs\n",
        "    for epoch in range(n_epochs + 1):\n",
        "\n",
        "    # enumerate mini batches\n",
        "        for i, (images, labels) in enumerate(train_loader):\n",
        "            #putting images,labels on GPU\n",
        "            images = images.to(device)\n",
        "            labels = torch.reshape(labels,(labels.shape[0],))\n",
        "            labels = labels.type(torch.LongTensor)\n",
        "            labels = labels.to(device)\n",
        "            # computing the model output\n",
        "\n",
        "            outputs = model(images)\n",
        "\n",
        "            # calculate loss\n",
        "            loss = criterion(outputs, labels)\n",
        "\n",
        "            # backward prop, updating, and clearing gradients\n",
        "\n",
        "            optimizer.zero_grad()\n",
        "\n",
        "            loss.backward()\n",
        "\n",
        "            optimizer.step()\n",
        "\n",
        "            # printing loss\n",
        "            if i == n_total_steps-1 and epoch % (n_epochs//10) == 0:\n",
        "                loss_ = loss.cpu()\n",
        "                losses.append(loss_.detach().float())\n",
        "                print (f'Epoch [{epoch}/{n_epochs}], Loss: {loss.item():.4f}') \n",
        "        \n",
        "    plt.plot(losses)\n",
        "    plt.ylabel('Loss')\n",
        "    plt.xlabel('epochs (per '+str(n_epochs/10)+' )')\n",
        "    plt.title(\"Learning rate = \" + str(0.01))\n",
        "    plt.show()"
      ],
      "metadata": {
        "id": "z0BnrNm8LN5s"
      },
      "execution_count": 21,
      "outputs": []
    },
    {
      "cell_type": "markdown",
      "source": [
        "## Initialize weights\n",
        "Write a small function to initialize weights for your model. You don't need to do it individually for each layer, there are ways to do it in a simple ```for``` loop."
      ],
      "metadata": {
        "id": "g319ipPXMh0R"
      }
    },
    {
      "cell_type": "code",
      "source": [
        "def init_weights(layer):\n",
        "    if isinstance(layer, nn.Linear):\n",
        "        torch.nn.init.xavier_uniform_(layer.weight)\n",
        "        layer.bias.data.fill_(0.01)"
      ],
      "metadata": {
        "id": "GRqqKNLZMjDe"
      },
      "execution_count": 7,
      "outputs": []
    },
    {
      "cell_type": "markdown",
      "source": [
        "## Prediction & Accuracy\n",
        "Prediction function should predict outputs using your trained model for a given **NumPy array** ```X_test``` and the output should be another **NumPy array**.\n",
        "\n",
        "The accuracy function would be the same as before."
      ],
      "metadata": {
        "id": "ivuHRGtfN3sE"
      }
    },
    {
      "cell_type": "code",
      "source": [
        "def predict(model, X_test):\n",
        "    X_test = torch.from_numpy(X_test).to(torch.float32)\n",
        "    X_test = X_test.to(device)\n",
        "    outputs = model(X_test)\n",
        "    outputs = outputs.detach().cpu().numpy()\n",
        "    pred = np.argmax(outputs,axis = 1)\n",
        "    return pred"
      ],
      "metadata": {
        "id": "cPX1q_0AN3ZV"
      },
      "execution_count": 25,
      "outputs": []
    },
    {
      "cell_type": "code",
      "source": [
        "def accuracy(pred, labels):\n",
        "    \"\"\"\n",
        "    prints % accuracy\n",
        "    \"\"\"\n",
        "    labels = np.reshape(labels,-1)\n",
        "    correct_pred = pred == labels\n",
        "    accuracy = correct_pred.sum()/labels.shape[0]*100.00\n",
        "    print(\"Accuracy : \"+str(accuracy)+\" %\")"
      ],
      "metadata": {
        "id": "_nKROVpWOa6j"
      },
      "execution_count": 9,
      "outputs": []
    },
    {
      "cell_type": "markdown",
      "source": [
        "## Actually training your model\n",
        "- Create a model, initialize it. Define optimizer for the model as well as loss criterion (you can actually set the seed here again, just in case you did some ```rand``` calls above for testing your functions).\n",
        "- Define an instance of the dataset class, wrap it in a dataloader.\n",
        "- Call the train function and train your model!\n"
      ],
      "metadata": {
        "id": "8aA1EWZmMbQe"
      }
    },
    {
      "cell_type": "code",
      "source": [
        "#defaults :\n",
        "n_x = X_train.shape[1]\n",
        "n_h1 = 80\n",
        "n_h2 = 40\n",
        "n_h3 = 20\n",
        "n_y = 10\n",
        "learning_rate = 0.01\n",
        "batch_size = 64\n",
        "num_epochs = 100\n",
        "\n",
        "model = Neural_Net(n_x,n_h1,n_h2,n_h3,n_y).to(device)\n",
        "model.apply(init_weights)\n",
        "train_set = Image_Dataset(X_train,y_train)\n",
        "train_loader =  DataLoader(train_set, batch_size= batch_size, shuffle = True)\n",
        "optimizer = torch.optim.Adam(model.parameters(),lr=learning_rate)\n",
        "criterion = nn.CrossEntropyLoss()\n",
        "train(model, train_loader , optimizer, criterion,num_epochs)\n"
      ],
      "metadata": {
        "id": "F8JG_XURNLmr",
        "colab": {
          "base_uri": "https://localhost:8080/",
          "height": 486
        },
        "outputId": "0b53a635-47b0-4e71-ad2a-dd2de2029210"
      },
      "execution_count": 22,
      "outputs": [
        {
          "output_type": "stream",
          "name": "stdout",
          "text": [
            "Epoch [0/100], Loss: 0.2171\n",
            "Epoch [10/100], Loss: 0.0352\n",
            "Epoch [20/100], Loss: 0.0073\n",
            "Epoch [30/100], Loss: 0.0004\n",
            "Epoch [40/100], Loss: 0.0734\n",
            "Epoch [50/100], Loss: 0.0013\n",
            "Epoch [60/100], Loss: 0.0382\n",
            "Epoch [70/100], Loss: 0.0014\n",
            "Epoch [80/100], Loss: 0.0002\n",
            "Epoch [90/100], Loss: 0.0004\n",
            "Epoch [100/100], Loss: 0.0001\n"
          ]
        },
        {
          "output_type": "display_data",
          "data": {
            "text/plain": [
              "<Figure size 432x288 with 1 Axes>"
            ],
            "image/png": "[encoded data removed]"
          },
          "metadata": {
            "needs_background": "light"
          }
        }
      ]
    },
    {
      "cell_type": "markdown",
      "source": [
        "## Run your model for the validation dataset\n",
        "Use your trained model to get predictions for the validation dataset you split earlier."
      ],
      "metadata": {
        "id": "OQsiK0-COe6E"
      }
    },
    {
      "cell_type": "code",
      "source": [
        "predictions = predict(model,X_test)\n",
        "accuracy(predictions,y_test)\n",
        "final_model = model"
      ],
      "metadata": {
        "id": "i_B_NUjUOq3c",
        "colab": {
          "base_uri": "https://localhost:8080/"
        },
        "outputId": "2c4279e8-5843-4585-bbfb-0e88627734e9"
      },
      "execution_count": 27,
      "outputs": [
        {
          "output_type": "stream",
          "name": "stdout",
          "text": [
            "Accuracy : 97.31111111111112 %\n"
          ]
        }
      ]
    },
    {
      "cell_type": "markdown",
      "source": [
        "## Submission\n",
        "To submit your solution, you will need to make a file with name ```model.py``` containing imports necessary to write the model class and the model class itself. It shouldn't do anything else when run. Other than this, save the trained model in a file named ```ass_2.pt```. When you are done with the assignment, commit the updated notebook, the ```model.py``` class file and the ```ass_2.pt``` model-weights file to the repository."
      ],
      "metadata": {
        "id": "0f4W_facj-PA"
      }
    },
    {
      "cell_type": "code",
      "source": [
        "from google.colab import files\n",
        "torch.save(final_model, 'ass_2.pt')\n",
        "files.download('ass_2.pt') # download the file from the Colab session for submission"
      ],
      "metadata": {
        "id": "7tknYAy1j92M",
        "colab": {
          "base_uri": "https://localhost:8080/",
          "height": 17
        },
        "outputId": "b6e5e90a-129c-4b56-e460-359b14759cbb"
      },
      "execution_count": 28,
      "outputs": [
        {
          "output_type": "display_data",
          "data": {
            "text/plain": [
              "<IPython.core.display.Javascript object>"
            ],
            "application/javascript": [
              "\n",
              "    async function download(id, filename, size) {\n",
              "      if (!google.colab.kernel.accessAllowed) {\n",
              "        return;\n",
              "      }\n",
              "      const div = document.createElement('div');\n",
              "      const label = document.createElement('label');\n",
              "      label.textContent = `Downloading \"${filename}\": `;\n",
              "      div.appendChild(label);\n",
              "      const progress = document.createElement('progress');\n",
              "      progress.max = size;\n",
              "      div.appendChild(progress);\n",
              "      document.body.appendChild(div);\n",
              "\n",
              "      const buffers = [];\n",
              "      let downloaded = 0;\n",
              "\n",
              "      const channel = await google.colab.kernel.comms.open(id);\n",
              "      // Send a message to notify the kernel that we're ready.\n",
              "      channel.send({})\n",
              "\n",
              "      for await (const message of channel.messages) {\n",
              "        // Send a message to notify the kernel that we're ready.\n",
              "        channel.send({})\n",
              "        if (message.buffers) {\n",
              "          for (const buffer of message.buffers) {\n",
              "            buffers.push(buffer);\n",
              "            downloaded += buffer.byteLength;\n",
              "            progress.value = downloaded;\n",
              "          }\n",
              "        }\n",
              "      }\n",
              "      const blob = new Blob(buffers, {type: 'application/binary'});\n",
              "      const a = document.createElement('a');\n",
              "      a.href = window.URL.createObjectURL(blob);\n",
              "      a.download = filename;\n",
              "      div.appendChild(a);\n",
              "      a.click();\n",
              "      div.remove();\n",
              "    }\n",
              "  "
            ]
          },
          "metadata": {}
        },
        {
          "output_type": "display_data",
          "data": {
            "text/plain": [
              "<IPython.core.display.Javascript object>"
            ],
            "application/javascript": [
              "download(\"download_068df190-527e-4ebd-8e7b-5343cb990b8f\", \"ass_2.pt\", 279200)"
            ]
          },
          "metadata": {}
        }
      ]
    },
    {
      "cell_type": "markdown",
      "source": [
        "Check if it got saved right!"
      ],
      "metadata": {
        "id": "flMRBW9Akhkg"
      }
    },
    {
      "cell_type": "code",
      "source": [
        "# load the model, use predict function\n",
        "model = torch.load('/content/ass_2.pt')\n",
        "accuracy(predict(model,X_test),y_test)"
      ],
      "metadata": {
        "id": "-wA9nHzYkj1R",
        "colab": {
          "base_uri": "https://localhost:8080/"
        },
        "outputId": "a6a9e96d-e0e9-4ddb-bb12-52354736a4dc"
      },
      "execution_count": 31,
      "outputs": [
        {
          "output_type": "stream",
          "name": "stdout",
          "text": [
            "Accuracy : 97.31111111111112 %\n"
          ]
        }
      ]
    }
  ]
}